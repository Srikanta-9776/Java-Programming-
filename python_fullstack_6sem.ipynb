{
  "nbformat": 4,
  "nbformat_minor": 0,
  "metadata": {
    "colab": {
      "provenance": [],
      "authorship_tag": "ABX9TyNXdsTkOvYyF4e+vA8N2Myi",
      "include_colab_link": true
    },
    "kernelspec": {
      "name": "python3",
      "display_name": "Python 3"
    },
    "language_info": {
      "name": "python"
    }
  },
  "cells": [
    {
      "cell_type": "markdown",
      "metadata": {
        "id": "view-in-github",
        "colab_type": "text"
      },
      "source": [
        "<a href=\"https://colab.research.google.com/github/Srikanta-9776/my-python-program/blob/main/python_fullstack_6sem.ipynb\" target=\"_parent\"><img src=\"https://colab.research.google.com/assets/colab-badge.svg\" alt=\"Open In Colab\"/></a>"
      ]
    },
    {
      "cell_type": "code",
      "execution_count": null,
      "metadata": {
        "colab": {
          "base_uri": "https://localhost:8080/"
        },
        "id": "LQsh0dMUgv3g",
        "outputId": "cec39f49-d791-4f03-bf7d-65a843598c78"
      },
      "outputs": [
        {
          "output_type": "stream",
          "name": "stdout",
          "text": [
            "apple\n",
            "banana\n",
            "cheery\n",
            "apple\n",
            "['apple', 'banana', 'cheery', 'apple']\n"
          ]
        }
      ],
      "source": [
        "fruit=['apple','banana','cheery','apple']\n",
        "for x in fruit:\n",
        "  print(x)\n",
        "\n",
        "\n",
        "print(fruit)"
      ]
    },
    {
      "cell_type": "markdown",
      "source": [
        "loops\n",
        ".for loop\n",
        ".while loop"
      ],
      "metadata": {
        "id": "Ejznz-uNg9Ct"
      }
    },
    {
      "cell_type": "code",
      "source": [
        "for x in range(10):\n",
        "  print(x)"
      ],
      "metadata": {
        "colab": {
          "base_uri": "https://localhost:8080/"
        },
        "id": "lAwe5f5eg-ro",
        "outputId": "46fc1d32-dd46-4192-f73f-a384e851b9bd"
      },
      "execution_count": null,
      "outputs": [
        {
          "output_type": "stream",
          "name": "stdout",
          "text": [
            "0\n",
            "1\n",
            "2\n",
            "3\n",
            "4\n",
            "5\n",
            "6\n",
            "7\n",
            "8\n",
            "9\n"
          ]
        }
      ]
    },
    {
      "cell_type": "code",
      "source": [
        "for x in range (2,30,5):\n",
        "  print(x)"
      ],
      "metadata": {
        "colab": {
          "base_uri": "https://localhost:8080/"
        },
        "id": "fjOYvMRchUrw",
        "outputId": "6b14b242-8e21-46ba-c136-db8f4b3d9884"
      },
      "execution_count": null,
      "outputs": [
        {
          "output_type": "stream",
          "name": "stdout",
          "text": [
            "2\n",
            "7\n",
            "12\n",
            "17\n",
            "22\n",
            "27\n"
          ]
        }
      ]
    },
    {
      "cell_type": "code",
      "source": [
        "for x in range(10):\n",
        "  print(x)\n",
        "else:\n",
        "  print(\"finally finished\")\n"
      ],
      "metadata": {
        "colab": {
          "base_uri": "https://localhost:8080/"
        },
        "id": "OdUo9OA3h4Jk",
        "outputId": "67b8a054-597b-4472-ee82-6ca8c4281474"
      },
      "execution_count": null,
      "outputs": [
        {
          "output_type": "stream",
          "name": "stdout",
          "text": [
            "0\n",
            "1\n",
            "2\n",
            "3\n",
            "4\n",
            "5\n",
            "6\n",
            "7\n",
            "8\n",
            "9\n",
            "finally finished\n"
          ]
        }
      ]
    },
    {
      "cell_type": "code",
      "source": [
        "#nested loops\n",
        "adj = [\"red\",\"blue\",\"black\"]\n",
        "fruits=[\"apple\",\"banana\",\"cherry\"]\n",
        "for x in adj:\n",
        "  for y in fruits:\n",
        "    print(x,y)"
      ],
      "metadata": {
        "colab": {
          "base_uri": "https://localhost:8080/"
        },
        "id": "P8PXzNiviTJm",
        "outputId": "eec1e7b1-792c-4825-d517-f77a4ff7809d"
      },
      "execution_count": 7,
      "outputs": [
        {
          "output_type": "stream",
          "name": "stdout",
          "text": [
            "red apple\n",
            "red banana\n",
            "red cherry\n",
            "blue apple\n",
            "blue banana\n",
            "blue cherry\n",
            "black apple\n",
            "black banana\n",
            "black cherry\n"
          ]
        }
      ]
    },
    {
      "cell_type": "code",
      "source": [
        "for x in range(2,6):\n",
        "    print(x)"
      ],
      "metadata": {
        "colab": {
          "base_uri": "https://localhost:8080/"
        },
        "id": "BXu3jy-kjflm",
        "outputId": "416d152e-53e1-4a26-98db-0813196ed707"
      },
      "execution_count": 10,
      "outputs": [
        {
          "output_type": "stream",
          "name": "stdout",
          "text": [
            "2\n",
            "3\n",
            "4\n",
            "5\n"
          ]
        }
      ]
    },
    {
      "cell_type": "code",
      "source": [
        "#while loop\n",
        "i=1\n",
        "while i<=6:\n",
        "  print(i)\n",
        "  i+=1\n"
      ],
      "metadata": {
        "colab": {
          "base_uri": "https://localhost:8080/"
        },
        "id": "ibTBMCppjWcd",
        "outputId": "93ff9b81-ea57-49e0-c5eb-458a5b4ba0f4"
      },
      "execution_count": 16,
      "outputs": [
        {
          "output_type": "stream",
          "name": "stdout",
          "text": [
            "1\n",
            "2\n",
            "3\n",
            "4\n",
            "5\n",
            "6\n"
          ]
        }
      ]
    },
    {
      "cell_type": "code",
      "source": [
        "i=1\n",
        "while i<6:\n",
        "  print(i)\n",
        "  i=i+1\n",
        "else:\n",
        "    print(\"i is no longer less than 6\")"
      ],
      "metadata": {
        "colab": {
          "base_uri": "https://localhost:8080/"
        },
        "id": "J1E_BdG5lFgP",
        "outputId": "720ae44a-877d-49ba-b838-8fbf5adf270b"
      },
      "execution_count": 20,
      "outputs": [
        {
          "output_type": "stream",
          "name": "stdout",
          "text": [
            "1\n",
            "2\n",
            "3\n",
            "4\n",
            "5\n",
            "i is no longer less than 6\n"
          ]
        }
      ]
    },
    {
      "cell_type": "markdown",
      "source": [
        "Function"
      ],
      "metadata": {
        "id": "70P5dB7WmXtJ"
      }
    },
    {
      "cell_type": "code",
      "source": [
        "#create function\n",
        "def myfunction():\n",
        "  print(\"hello\")\n",
        "\n",
        "\n",
        "myfunction()\n"
      ],
      "metadata": {
        "colab": {
          "base_uri": "https://localhost:8080/"
        },
        "id": "bpXFfhTlmZlK",
        "outputId": "bfe4bff2-ca1c-424e-8abf-bf5148adcb48"
      },
      "execution_count": 30,
      "outputs": [
        {
          "output_type": "stream",
          "name": "stdout",
          "text": [
            "hello\n"
          ]
        }
      ]
    },
    {
      "cell_type": "code",
      "source": [
        "def myfunction(fname):\n",
        "  print(fname + \"  \"  +\"srikanta\")\n",
        "\n",
        "\n",
        "myfunction(\"email\")\n",
        "myfunction(\"mohanta\")"
      ],
      "metadata": {
        "colab": {
          "base_uri": "https://localhost:8080/"
        },
        "id": "08FEP0rJnsqn",
        "outputId": "95a4e37f-98bd-47b2-a056-f40e2d295f14"
      },
      "execution_count": 42,
      "outputs": [
        {
          "output_type": "stream",
          "name": "stdout",
          "text": [
            "email  srikanta\n",
            "mohanta  srikanta\n"
          ]
        }
      ]
    },
    {
      "cell_type": "code",
      "source": [
        "myfunction(\"mohan\")"
      ],
      "metadata": {
        "colab": {
          "base_uri": "https://localhost:8080/"
        },
        "id": "OdvpkzhXoQsF",
        "outputId": "b969ece3-962a-40a4-acb1-5d8c24f93292"
      },
      "execution_count": 34,
      "outputs": [
        {
          "output_type": "stream",
          "name": "stdout",
          "text": [
            "mohansrikanta\n"
          ]
        }
      ]
    },
    {
      "cell_type": "code",
      "source": [
        "def myfunction(fname, lname):\n",
        "  print(fname +\" \" + lname)\n",
        "myfunction(\"email\" , \"refuse\")"
      ],
      "metadata": {
        "colab": {
          "base_uri": "https://localhost:8080/"
        },
        "id": "UuN0BaFQoZtO",
        "outputId": "c970aa74-5f33-4c26-efa1-b122233057d8"
      },
      "execution_count": 39,
      "outputs": [
        {
          "output_type": "stream",
          "name": "stdout",
          "text": [
            "email refuse\n"
          ]
        }
      ]
    },
    {
      "cell_type": "code",
      "source": [
        "#default parameter value\n",
        "def myfunction(country = \"india\"):\n",
        "  print(\"  i am from puri  \" + country)\n",
        "myfunction()\n",
        "myfunction(\"sweden\")\n",
        "myfunction(\"brazil\")\n",
        "myfunction()"
      ],
      "metadata": {
        "colab": {
          "base_uri": "https://localhost:8080/"
        },
        "id": "eoJLA3ZbpMy9",
        "outputId": "7ccb2a8d-ea4c-43a4-f913-a3ad64a997d6"
      },
      "execution_count": 45,
      "outputs": [
        {
          "output_type": "stream",
          "name": "stdout",
          "text": [
            "  i am from puri  india\n",
            "  i am from puri  sweden\n",
            "  i am from puri  brazil\n",
            "  i am from puri  india\n"
          ]
        }
      ]
    },
    {
      "cell_type": "code",
      "source": [
        "#return value\n",
        "def myfunction(x):\n",
        "  return 5*x\n",
        "print(myfunction(3))\n"
      ],
      "metadata": {
        "colab": {
          "base_uri": "https://localhost:8080/"
        },
        "id": "5-BGoSooqNIz",
        "outputId": "1c06e914-200c-40bd-c49a-6287aa950b4f"
      },
      "execution_count": 50,
      "outputs": [
        {
          "output_type": "stream",
          "name": "stdout",
          "text": [
            "15\n"
          ]
        }
      ]
    },
    {
      "cell_type": "code",
      "source": [
        "print(myfunction(10))"
      ],
      "metadata": {
        "colab": {
          "base_uri": "https://localhost:8080/"
        },
        "id": "yju3x-g5qpIo",
        "outputId": "8bc72f12-1001-49fa-c5ba-e63ddcff4858"
      },
      "execution_count": 49,
      "outputs": [
        {
          "output_type": "stream",
          "name": "stdout",
          "text": [
            "50\n"
          ]
        }
      ]
    },
    {
      "cell_type": "code",
      "source": [
        "print(myfunction(2))"
      ],
      "metadata": {
        "colab": {
          "base_uri": "https://localhost:8080/"
        },
        "id": "ZVNs01LrqxQf",
        "outputId": "58d52320-65db-443a-f4d6-b34f789a816a"
      },
      "execution_count": 51,
      "outputs": [
        {
          "output_type": "stream",
          "name": "stdout",
          "text": [
            "10\n"
          ]
        }
      ]
    }
  ]
}